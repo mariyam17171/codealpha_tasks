{
 "cells": [
  {
   "cell_type": "code",
   "execution_count": 1,
   "id": "3884c003-429e-47a2-9758-d45abfd4a4b1",
   "metadata": {},
   "outputs": [
    {
     "name": "stdout",
     "output_type": "stream",
     "text": [
      "📈 Welcome to the Stock Portfolio Tracker!\n",
      "Available stocks:  AAPL, TSLA, GOOGL, AMZN, MSFT\n"
     ]
    },
    {
     "name": "stdin",
     "output_type": "stream",
     "text": [
      "Enter stock symbol (or type 'done' to finish):  AAPL\n",
      "Enter quantity for AAPL:  34\n",
      "Enter stock symbol (or type 'done' to finish):  MSFT\n",
      "Enter quantity for MSFT:  20\n",
      "Enter stock symbol (or type 'done' to finish):  TSLA\n",
      "Enter quantity for TSLA:  23\n",
      "Enter stock symbol (or type 'done' to finish):  AMZN\n",
      "Enter quantity for AMZN:  5\n",
      "Enter stock symbol (or type 'done' to finish):  MSFT\n",
      "Enter quantity for MSFT:  4\n",
      "Enter stock symbol (or type 'done' to finish):  DONE\n"
     ]
    },
    {
     "name": "stdout",
     "output_type": "stream",
     "text": [
      "\n",
      "🧾 Investment Summary:\n",
      "AAPL: 34 shares × ₹180 = ₹6120\n",
      "MSFT: 24 shares × ₹200 = ₹4800\n",
      "TSLA: 23 shares × ₹250 = ₹5750\n",
      "AMZN: 5 shares × ₹130 = ₹650\n",
      "\n",
      "💰 Total Investment: ₹17320\n"
     ]
    },
    {
     "name": "stdin",
     "output_type": "stream",
     "text": [
      "Do you want to save this to a file? (yes/no):  NO\n"
     ]
    }
   ],
   "source": [
    "# Hardcoded stock prices\n",
    "stock_prices = {\n",
    "    \"AAPL\": 180,\n",
    "    \"TSLA\": 250,\n",
    "    \"GOOGL\": 140,\n",
    "    \"AMZN\": 130,\n",
    "    \"MSFT\": 200\n",
    "}\n",
    "\n",
    "portfolio = {}\n",
    "total_investment = 0\n",
    "\n",
    "print(\"📈 Welcome to the Stock Portfolio Tracker!\")\n",
    "print(\"Available stocks: \", ', '.join(stock_prices.keys()))\n",
    "\n",
    "# Take input from user\n",
    "while True:\n",
    "    stock = input(\"Enter stock symbol (or type 'done' to finish): \").upper()\n",
    "    if stock == 'DONE':\n",
    "        break\n",
    "\n",
    "    if stock not in stock_prices:\n",
    "        print(\"❌ Stock not found. Please choose from:\", ', '.join(stock_prices.keys()))\n",
    "        continue\n",
    "\n",
    "    try:\n",
    "        quantity = int(input(f\"Enter quantity for {stock}: \"))\n",
    "    except ValueError:\n",
    "        print(\"⚠ Please enter a valid number.\")\n",
    "        continue\n",
    "\n",
    "    portfolio[stock] = portfolio.get(stock, 0) + quantity\n",
    "    total_investment += stock_prices[stock] * quantity\n",
    "\n",
    "# Display result\n",
    "print(\"\\n🧾 Investment Summary:\")\n",
    "for stock, qty in portfolio.items():\n",
    "    print(f\"{stock}: {qty} shares × ₹{stock_prices[stock]} = ₹{qty * stock_prices[stock]}\")\n",
    "\n",
    "print(f\"\\n💰 Total Investment: ₹{total_investment}\")\n",
    "\n",
    "# Optional: Save to file\n",
    "save = input(\"Do you want to save this to a file? (yes/no): \").lower()\n",
    "if save == \"yes\":\n",
    "    with open(\"portfolio_summary.txt\", \"w\") as f:\n",
    "        f.write(\"Stock Portfolio Summary\\n\")\n",
    "        for stock, qty in portfolio.items():\n",
    "            f.write(f\"{stock}: {qty} × ₹{stock_prices[stock]} = ₹{qty * stock_prices[stock]}\\n\")\n",
    "        f.write(f\"\\nTotal Investment: ₹{total_investment}\\n\")\n",
    "    print(\"✅ Summary saved to 'portfolio_summary.txt'\")"
   ]
  },
  {
   "cell_type": "code",
   "execution_count": null,
   "id": "e2be484d-2083-4eb4-ae82-2ae7f16d35b7",
   "metadata": {},
   "outputs": [],
   "source": []
  }
 ],
 "metadata": {
  "kernelspec": {
   "display_name": "Python [conda env:anaconda3]",
   "language": "python",
   "name": "conda-env-anaconda3-py"
  },
  "language_info": {
   "codemirror_mode": {
    "name": "ipython",
    "version": 3
   },
   "file_extension": ".py",
   "mimetype": "text/x-python",
   "name": "python",
   "nbconvert_exporter": "python",
   "pygments_lexer": "ipython3",
   "version": "3.12.7"
  }
 },
 "nbformat": 4,
 "nbformat_minor": 5
}
