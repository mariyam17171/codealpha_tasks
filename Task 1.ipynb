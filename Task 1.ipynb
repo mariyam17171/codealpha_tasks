{
 "cells": [
  {
   "cell_type": "code",
   "execution_count": 1,
   "id": "642216df-1b2a-4002-bd1a-44ace8c0703a",
   "metadata": {},
   "outputs": [
    {
     "name": "stdout",
     "output_type": "stream",
     "text": [
      "🎯 Welcome to Hangman!\n",
      "_ _ _ _ _ \n"
     ]
    },
    {
     "name": "stdin",
     "output_type": "stream",
     "text": [
      "Guess a letter:  e\n"
     ]
    },
    {
     "name": "stdout",
     "output_type": "stream",
     "text": [
      "✅ Good guess!\n",
      "_ _ _ _ e\n"
     ]
    },
    {
     "name": "stdin",
     "output_type": "stream",
     "text": [
      "Guess a letter:  r\n"
     ]
    },
    {
     "name": "stdout",
     "output_type": "stream",
     "text": [
      "❌ Wrong guess! You have 5 tries left.\n",
      "_ _ _ _ e\n"
     ]
    },
    {
     "name": "stdin",
     "output_type": "stream",
     "text": [
      "Guess a letter:  a\n"
     ]
    },
    {
     "name": "stdout",
     "output_type": "stream",
     "text": [
      "❌ Wrong guess! You have 4 tries left.\n",
      "_ _ _ _ e\n"
     ]
    },
    {
     "name": "stdin",
     "output_type": "stream",
     "text": [
      "Guess a letter:  m\n"
     ]
    },
    {
     "name": "stdout",
     "output_type": "stream",
     "text": [
      "✅ Good guess!\n",
      "m _ _ _ e\n"
     ]
    },
    {
     "name": "stdin",
     "output_type": "stream",
     "text": [
      "Guess a letter:  u\n"
     ]
    },
    {
     "name": "stdout",
     "output_type": "stream",
     "text": [
      "✅ Good guess!\n",
      "m _ u _ e\n"
     ]
    },
    {
     "name": "stdin",
     "output_type": "stream",
     "text": [
      "Guess a letter:  u\n"
     ]
    },
    {
     "name": "stdout",
     "output_type": "stream",
     "text": [
      "⚠ You already guessed that letter.\n"
     ]
    },
    {
     "name": "stdin",
     "output_type": "stream",
     "text": [
      "Guess a letter:  s\n"
     ]
    },
    {
     "name": "stdout",
     "output_type": "stream",
     "text": [
      "✅ Good guess!\n",
      "m _ u s e\n"
     ]
    },
    {
     "name": "stdin",
     "output_type": "stream",
     "text": [
      "Guess a letter:  e\n"
     ]
    },
    {
     "name": "stdout",
     "output_type": "stream",
     "text": [
      "⚠ You already guessed that letter.\n"
     ]
    },
    {
     "name": "stdin",
     "output_type": "stream",
     "text": [
      "Guess a letter:  o\n"
     ]
    },
    {
     "name": "stdout",
     "output_type": "stream",
     "text": [
      "✅ Good guess!\n",
      "m o u s e\n",
      "🎉 Congratulations! You guessed the word correctly!\n"
     ]
    }
   ],
   "source": [
    "import random\n",
    "\n",
    "# Predefined list of words\n",
    "word_list = [\"python\", \"robot\", \"engine\", \"mouse\", \"code\"]\n",
    "\n",
    "# Select a random word from the list\n",
    "secret_word = random.choice(word_list)\n",
    "guessed_letters = []\n",
    "tries = 6\n",
    "\n",
    "print(\"🎯 Welcome to Hangman!\")\n",
    "print(\"_ \" * len(secret_word))\n",
    "\n",
    "# Game loop\n",
    "while tries > 0:\n",
    "    guess = input(\"Guess a letter: \").lower()\n",
    "\n",
    "    if not guess.isalpha() or len(guess) != 1:\n",
    "        print(\"❌ Please enter a single alphabet letter.\")\n",
    "        continue\n",
    "\n",
    "    if guess in guessed_letters:\n",
    "        print(\"⚠ You already guessed that letter.\")\n",
    "        continue\n",
    "\n",
    "    guessed_letters.append(guess)\n",
    "\n",
    "    if guess in secret_word:\n",
    "        print(\"✅ Good guess!\")\n",
    "    else:\n",
    "        tries -= 1\n",
    "        print(f\"❌ Wrong guess! You have {tries} tries left.\")\n",
    "\n",
    "    # Show current progress\n",
    "    display_word = \"\"\n",
    "    for letter in secret_word:\n",
    "        if letter in guessed_letters:\n",
    "            display_word += letter + \" \"\n",
    "        else:\n",
    "            display_word += \"_ \"\n",
    "    print(display_word.strip())\n",
    "\n",
    "    # Check if player won\n",
    "    if all(letter in guessed_letters for letter in secret_word):\n",
    "        print(\"🎉 Congratulations! You guessed the word correctly!\")\n",
    "        break\n",
    "else:\n",
    "    print(f\"💀 Game Over! The word was: {secret_word}\")"
   ]
  },
  {
   "cell_type": "code",
   "execution_count": null,
   "id": "464a09af-639d-4e4a-baf4-b08322502fcb",
   "metadata": {},
   "outputs": [],
   "source": []
  }
 ],
 "metadata": {
  "kernelspec": {
   "display_name": "Python [conda env:anaconda3]",
   "language": "python",
   "name": "conda-env-anaconda3-py"
  },
  "language_info": {
   "codemirror_mode": {
    "name": "ipython",
    "version": 3
   },
   "file_extension": ".py",
   "mimetype": "text/x-python",
   "name": "python",
   "nbconvert_exporter": "python",
   "pygments_lexer": "ipython3",
   "version": "3.12.7"
  }
 },
 "nbformat": 4,
 "nbformat_minor": 5
}
