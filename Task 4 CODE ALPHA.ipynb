{
 "cells": [
  {
   "cell_type": "code",
   "execution_count": 1,
   "id": "33ca81e7-1ca0-4128-bd7e-013464aa5d1a",
   "metadata": {},
   "outputs": [
    {
     "name": "stdout",
     "output_type": "stream",
     "text": [
      "🤖 Chatbot is ready! Type 'bye' to exit.\n"
     ]
    },
    {
     "name": "stdin",
     "output_type": "stream",
     "text": [
      "You:  hello\n"
     ]
    },
    {
     "name": "stdout",
     "output_type": "stream",
     "text": [
      "Bot: Hi!\n"
     ]
    },
    {
     "name": "stdin",
     "output_type": "stream",
     "text": [
      "You:  how are you\n"
     ]
    },
    {
     "name": "stdout",
     "output_type": "stream",
     "text": [
      "Bot: I'm fine, thanks!\n"
     ]
    },
    {
     "name": "stdin",
     "output_type": "stream",
     "text": [
      "You:  bye\n"
     ]
    },
    {
     "name": "stdout",
     "output_type": "stream",
     "text": [
      "Bot: Goodbye!\n"
     ]
    }
   ],
   "source": [
    "print(\"🤖 Chatbot is ready! Type 'bye' to exit.\")\n",
    "\n",
    "while True:\n",
    "    user_input = input(\"You: \").lower()\n",
    "\n",
    "    if user_input == \"hello\":\n",
    "        print(\"Bot: Hi!\")\n",
    "    elif user_input == \"how are you\":\n",
    "        print(\"Bot: I'm fine, thanks!\")\n",
    "    elif user_input == \"bye\":\n",
    "        print(\"Bot: Goodbye!\")\n",
    "        break\n",
    "    else:\n",
    "        print(\"Bot: Sorry, I didn't understand that.\")"
   ]
  },
  {
   "cell_type": "code",
   "execution_count": null,
   "id": "c4058a0a-abb8-426d-8f69-df49c1fba098",
   "metadata": {},
   "outputs": [],
   "source": []
  }
 ],
 "metadata": {
  "kernelspec": {
   "display_name": "Python [conda env:anaconda3]",
   "language": "python",
   "name": "conda-env-anaconda3-py"
  },
  "language_info": {
   "codemirror_mode": {
    "name": "ipython",
    "version": 3
   },
   "file_extension": ".py",
   "mimetype": "text/x-python",
   "name": "python",
   "nbconvert_exporter": "python",
   "pygments_lexer": "ipython3",
   "version": "3.12.7"
  }
 },
 "nbformat": 4,
 "nbformat_minor": 5
}
